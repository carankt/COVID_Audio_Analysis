{
 "cells": [
  {
   "cell_type": "code",
   "execution_count": 26,
   "id": "8edcdcd2-b9c7-496d-9c80-eade442094a8",
   "metadata": {},
   "outputs": [],
   "source": [
    "import pandas as pd\n",
    "df_speech = pd.read_csv(\"feats/speech_LLD.csv\")\n",
    "meta = pd.read_csv('/Volumes/Datasets/Github/MuDiCov/data/metadata.csv')\n",
    "\n",
    "labels_train = open(\"data/train_labels\").readlines()\n",
    "label_df = pd.DataFrame()\n",
    "ids = []\n",
    "label_list = []\n",
    "for i in range(0, len(labels_train)):\n",
    "    ids.append(labels_train[i][0:-3]) # 28 char of len\n",
    "    if labels_train[i][-2:-1] == 'p':\n",
    "        label_list.append(1) # c1 char of len\n",
    "    elif labels_train[i][-2:-1] == 'n':\n",
    "        label_list.append(0)\n",
    "\"\"\"\n",
    "labels = open(\"data/test_labels\").readlines()\n",
    "for i in range(0, len(labels)):\n",
    "    ids.append(labels[i][0:-3]) # 28 char of len\n",
    "    if labels[i][-2:-1] == 'p':\n",
    "        label_list.append(1) # c1 char of len\n",
    "    elif labels[i][-2:-1] == 'n':\n",
    "        label_list.append(0)\n",
    "\"\"\"        \n",
    "label_df['id'] = ids\n",
    "label_df['target'] = label_list\n",
    "\n"
   ]
  },
  {
   "cell_type": "code",
   "execution_count": 27,
   "id": "76f69c14-6076-4ce2-a22d-ed02e69b23de",
   "metadata": {},
   "outputs": [
    {
     "name": "stderr",
     "output_type": "stream",
     "text": [
      "100%|██████████| 1125/1125 [06:18<00:00,  2.97it/s]\n"
     ]
    }
   ],
   "source": [
    "speech_meta = pd.DataFrame()\n",
    "from tqdm import tqdm\n",
    "for i in tqdm(range(0, len(ids))):\n",
    "    junk = (df_speech.loc[df_speech['file_name'] == ids[i]])\n",
    "    junk = junk.drop(columns=[\"Unnamed: 0\"])\n",
    "    junk['target'] = label_list[i]\n",
    "    speech_meta = speech_meta.append(junk, ignore_index = True)"
   ]
  },
  {
   "cell_type": "code",
   "execution_count": null,
   "id": "ade97320-cd1f-4f5e-a4d5-555740a1686e",
   "metadata": {},
   "outputs": [],
   "source": [
    "speech_meta.head()"
   ]
  },
  {
   "cell_type": "code",
   "execution_count": null,
   "id": "92153d54-0439-4f98-9c4e-aaf75520113a",
   "metadata": {},
   "outputs": [],
   "source": [
    "from bioinfokit.analys import stat\n",
    "important_features = {}\n",
    "for col in df_speech.columns.drop([\"Unnamed: 0\", \"file_name\"]):\n",
    "    res = stat()\n",
    "    res.ttest(df = speech_meta, xfac=\"target\", res = col, test_type=2, evar=False)\n",
    "    p_two_tail = float(res.summary.split(\"\\n\")[9].split()[-1])\n",
    "    if p_two_tail < 0.05:\n",
    "        important_features[col] = p_two_tail\n",
    "        "
   ]
  },
  {
   "cell_type": "code",
   "execution_count": null,
   "id": "6ed8e141-3791-49e4-a3e2-ac1db899756d",
   "metadata": {},
   "outputs": [],
   "source": [
    "labels_train"
   ]
  },
  {
   "cell_type": "code",
   "execution_count": null,
   "id": "8543caf4-2ba1-44c8-a2f3-f4e0860a000a",
   "metadata": {},
   "outputs": [],
   "source": []
  },
  {
   "cell_type": "code",
   "execution_count": null,
   "id": "aefc818b-1c47-4f17-ac37-c28b7a7ffc9a",
   "metadata": {},
   "outputs": [],
   "source": []
  }
 ],
 "metadata": {
  "kernelspec": {
   "display_name": "Python 3",
   "language": "python",
   "name": "python3"
  },
  "language_info": {
   "codemirror_mode": {
    "name": "ipython",
    "version": 3
   },
   "file_extension": ".py",
   "mimetype": "text/x-python",
   "name": "python",
   "nbconvert_exporter": "python",
   "pygments_lexer": "ipython3",
   "version": "3.8.8"
  }
 },
 "nbformat": 4,
 "nbformat_minor": 5
}
